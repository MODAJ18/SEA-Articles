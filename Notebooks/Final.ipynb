{
 "cells": [
  {
   "cell_type": "code",
   "execution_count": 1,
   "id": "1e6132b7",
   "metadata": {},
   "outputs": [],
   "source": [
    "# adding source code parent directory\n",
    "import sys\n",
    "sys.path.append('..\\\\Src')"
   ]
  },
  {
   "cell_type": "code",
   "execution_count": 18,
   "id": "9bb3656c",
   "metadata": {},
   "outputs": [],
   "source": [
    "import pandas as pd\n",
    "import numpy as np"
   ]
  },
  {
   "cell_type": "code",
   "execution_count": 166,
   "id": "4690f385",
   "metadata": {},
   "outputs": [],
   "source": [
    "from preprocessing.data_prep import read_data\n",
    "from preprocessing.data_clean import clean_data2, clean_text2"
   ]
  },
  {
   "cell_type": "code",
   "execution_count": 3,
   "id": "14f6ca07",
   "metadata": {},
   "outputs": [],
   "source": [
    "data_path = \"../Data/husna.json\"\n",
    "cols = ['text_clean', 'summary_clean', 'title_clean', 'tags']\n",
    "cols_weights = {'text_clean': 0.5, 'summary_clean': 0.15, 'title_clean': 0.2, 'tags': 0.1}"
   ]
  },
  {
   "cell_type": "code",
   "execution_count": 6,
   "id": "43de6adc",
   "metadata": {},
   "outputs": [
    {
     "name": "stderr",
     "output_type": "stream",
     "text": [
      "C:\\Users\\modaj\\OneDrive\\Documents\\Personal\\Jobs\\SHAI\\intern - task 3\\haystack-venv\\lib\\site-packages\\bs4\\__init__.py:435: MarkupResemblesLocatorWarning: The input looks more like a filename than markup. You may want to open this file and pass the filehandle into Beautiful Soup.\n",
      "  warnings.warn(\n",
      "C:\\Users\\modaj\\OneDrive\\Documents\\Personal\\Jobs\\SHAI\\intern - task 3\\haystack-venv\\lib\\site-packages\\bs4\\__init__.py:435: MarkupResemblesLocatorWarning: The input looks more like a filename than markup. You may want to open this file and pass the filehandle into Beautiful Soup.\n",
      "  warnings.warn(\n"
     ]
    }
   ],
   "source": [
    "docs_df = read_data(data_path)\n",
    "docs_df_cleaned = clean_data2(docs_df)\n",
    "docs_df_cleaned['content_clean'] = docs_df_cleaned['title_clean'] + \" \" + docs_df_cleaned['text_clean']"
   ]
  },
  {
   "cell_type": "code",
   "execution_count": 9,
   "id": "6a8c98d3",
   "metadata": {},
   "outputs": [],
   "source": [
    "docs_df_cleaned['content_tokenized'] = docs_df_cleaned['text_clean'].apply(lambda x: x.split())"
   ]
  },
  {
   "cell_type": "code",
   "execution_count": 12,
   "id": "8450ea39",
   "metadata": {},
   "outputs": [],
   "source": [
    "content_data = docs_df_cleaned['content_tokenized']"
   ]
  },
  {
   "cell_type": "markdown",
   "id": "782521a2",
   "metadata": {
    "papermill": {
     "duration": 0.012501,
     "end_time": "2020-08-30T18:50:07.601976",
     "exception": false,
     "start_time": "2020-08-30T18:50:07.589475",
     "status": "completed"
    },
    "tags": []
   },
   "source": [
    "### Building Word Dictionary\n",
    "\n",
    "In the next step we will build the vocabulary of the corpus in which all the unique words are given IDs and their frequency counds are also stored. You may note that we are using gensim library for building the dictionary.   In gensim, the words are referred as \"tokens\" adn the index of each word in the dictionary is called ID"
   ]
  },
  {
   "cell_type": "code",
   "execution_count": 85,
   "id": "e6a3c39e",
   "metadata": {
    "execution": {
     "iopub.execute_input": "2020-08-30T18:50:07.670822Z",
     "iopub.status.busy": "2020-08-30T18:50:07.665696Z",
     "iopub.status.idle": "2020-08-30T18:50:07.718778Z",
     "shell.execute_reply": "2020-08-30T18:50:07.717951Z"
    },
    "papermill": {
     "duration": 0.103856,
     "end_time": "2020-08-30T18:50:07.718947",
     "exception": false,
     "start_time": "2020-08-30T18:50:07.615091",
     "status": "completed"
    },
    "tags": []
   },
   "outputs": [
    {
     "name": "stdout",
     "output_type": "stream",
     "text": [
      "CPU times: total: 859 ms\n",
      "Wall time: 912 ms\n"
     ]
    }
   ],
   "source": [
    "from gensim import corpora, models\n",
    "\n",
    "#creating term dictionary\n",
    "%time dictionary = corpora.Dictionary(content_data)\n",
    "\n",
    "#filter out terms which occurs in less than 4 documents and more than 20% of the documents.\n",
    "#NOTE: Since we have smaller dataset, we will keep this commented for now.\n",
    "\n",
    "#dictionary.filter_extremes(no_below=4, no_above=0.2)\n",
    "\n",
    "#list of few which which can be further removed\n",
    "# stoplist = set('hello and if this can would should could tell ask stop come go')\n",
    "# stop_ids = [dictionary.token2id[stopword] for stopword in stoplist if stopword in dictionary.token2id]\n",
    "# dictionary.filter_tokens(stop_ids)\n"
   ]
  },
  {
   "cell_type": "markdown",
   "id": "cc2e1ee0",
   "metadata": {
    "papermill": {
     "duration": 0.012808,
     "end_time": "2020-08-30T18:50:07.746176",
     "exception": false,
     "start_time": "2020-08-30T18:50:07.733368",
     "status": "completed"
    },
    "tags": []
   },
   "source": [
    "You can see that there are 2 additional steps performed after creating the dictionary.\n",
    "1. All the tokens in the dictionary which either have occurrred in less than 4 articles or have occurred in more than 20% of the articles are removed from the dictionary, as these words will not be contributing to the various themes or topics. \n",
    "2. Removing content neutral words from the dictionary and additional stopwords."
   ]
  },
  {
   "cell_type": "code",
   "execution_count": 86,
   "id": "485b9830",
   "metadata": {},
   "outputs": [
    {
     "name": "stdout",
     "output_type": "stream",
     "text": [
      "(0, '10')\n",
      "10 0\n"
     ]
    }
   ],
   "source": [
    "print(list(dictionary.items())[0])\n",
    "print(dictionary[0], dictionary.token2id[dictionary[0]])"
   ]
  },
  {
   "cell_type": "code",
   "execution_count": 87,
   "id": "fd981794",
   "metadata": {
    "execution": {
     "iopub.execute_input": "2020-08-30T18:50:07.788971Z",
     "iopub.status.busy": "2020-08-30T18:50:07.788184Z",
     "iopub.status.idle": "2020-08-30T18:50:07.792170Z",
     "shell.execute_reply": "2020-08-30T18:50:07.792787Z"
    },
    "papermill": {
     "duration": 0.03359,
     "end_time": "2020-08-30T18:50:07.793004",
     "exception": false,
     "start_time": "2020-08-30T18:50:07.759414",
     "status": "completed"
    },
    "tags": []
   },
   "outputs": [
    {
     "name": "stdout",
     "output_type": "stream",
     "text": [
      "[[['10', 0], ['15', 1], ['42', 2], ['600', 3], ['820', 4], ['أحتاج', 5], ['أحد', 6], ['أرض', 7], ['أشار', 8], ['أكد', 9], ['أمر', 10], ['أمين', 11], ['أن', 12], ['أنتظر', 13], ['أنتقل', 14], ['أنجز', 15], ['أو', 16], ['إجراء', 17], ['إداري', 18], ['إستراتيجي', 19], ['إعداد', 20], ['إلي', 21], ['ابن', 22], ['ارحاب', 23], ['استئجار', 24], ['اكتظاظ', 25], ['ال', 26], ['الذي', 27], ['القبيلات', 28], ['بناء', 29], ['بين', 30], ['تأكد', 31], ['تبرع', 32], ['تحديد', 33], ['تحويل', 34], ['تربيه', 35], ['تسلم', 36], ['تسليم', 37], ['تعلق', 38], ['تعليم', 39], ['تنسيق', 40], ['توزيع', 41], ['توسع', 42], ['جاء', 43], ['جديد', 44], ['جمعيه', 45], ['حاجه', 46], ['حسني', 47], ['حكومي', 48], ['خلال', 49], ['دراسه', 50]]]\n"
     ]
    }
   ],
   "source": [
    "#print top 50 items from the dictionary with their unique token-id\n",
    "dict_tokens = [[[dictionary[key], dictionary.token2id[dictionary[key]]] for key, value in dictionary.items() if key <= 50]]\n",
    "print (dict_tokens)"
   ]
  },
  {
   "cell_type": "markdown",
   "id": "a6f87305",
   "metadata": {
    "papermill": {
     "duration": 0.013263,
     "end_time": "2020-08-30T18:50:07.820555",
     "exception": false,
     "start_time": "2020-08-30T18:50:07.807292",
     "status": "completed"
    },
    "tags": []
   },
   "source": [
    "### Feature Extraction (Bag of Words)\n",
    "\n",
    "A bag of words model, or BoW for short is a way of extracting features from text for use in modelling, such as with machine learning algorithms. It is a representation of tet that describes teh occurence of words within a document. It involves two things\n",
    "\n",
    "1. A vocabulary of known words\n",
    "2. A measure of the presence of known words\n",
    "\n",
    "The doc2bow method of dictionary, iterates through all the words in the text, if the word already exists in the corpus, it increments the frequency count, other wise it inserts the word into the corpus and sets it freqeuncy count to 1"
   ]
  },
  {
   "cell_type": "code",
   "execution_count": 88,
   "id": "8fb1183c",
   "metadata": {},
   "outputs": [
    {
     "name": "stdout",
     "output_type": "stream",
     "text": [
      "[(9, 1), (11, 1), (35, 1), (62, 1), (103, 1)]\n",
      "['أكد', 'أمين', 'عام', 'وزاره', 'تربيه']\n"
     ]
    }
   ],
   "source": [
    "# dictionary.doc2bow(desc)\n",
    "print(dictionary.doc2bow(content_data[0] [ :5]))\n",
    "print(content_data[0] [ :5])"
   ]
  },
  {
   "cell_type": "code",
   "execution_count": 89,
   "id": "aa9eb439",
   "metadata": {
    "collapsed": true,
    "execution": {
     "iopub.execute_input": "2020-08-30T18:50:07.982869Z",
     "iopub.status.busy": "2020-08-30T18:50:07.872183Z",
     "iopub.status.idle": "2020-08-30T18:50:07.986684Z",
     "shell.execute_reply": "2020-08-30T18:50:07.985853Z"
    },
    "papermill": {
     "duration": 0.152364,
     "end_time": "2020-08-30T18:50:07.986800",
     "exception": false,
     "start_time": "2020-08-30T18:50:07.834436",
     "status": "completed"
    },
    "tags": []
   },
   "outputs": [
    {
     "name": "stdout",
     "output_type": "stream",
     "text": [
      "[[('10', 1), ('15', 1), ('42', 1), ('600', 1), ('820', 1), ('أحتاج', 1), ('أحد', 1), ('أرض', 1), ('أشار', 1), ('أكد', 3), ('أمر', 1), ('أمين', 1), ('أن', 5), ('أنتظر', 1), ('أنتقل', 1), ('أنجز', 1), ('أو', 1), ('إجراء', 1), ('إداري', 1), ('إستراتيجي', 1), ('إعداد', 1), ('إلي', 6), ('ابن', 1), ('ارحاب', 1), ('استئجار', 1), ('اكتظاظ', 1), ('ال', 1), ('الذي', 3), ('القبيلات', 1), ('بناء', 7), ('بين', 1), ('تأكد', 1), ('تبرع', 2), ('تحديد', 2), ('تحويل', 1), ('تربيه', 5), ('تسلم', 1), ('تسليم', 1), ('تعلق', 1), ('تعليم', 1), ('تنسيق', 1), ('توزيع', 1), ('توسع', 1), ('جاء', 1), ('جديد', 1), ('جمعيه', 1), ('حاجه', 3), ('حسني', 1), ('حكومي', 2), ('خلال', 3), ('دراسه', 1), ('دكتور', 1), ('دوام', 1), ('زال', 1), ('زياده', 1), ('سبب', 1), ('سلامه', 1), ('سنه', 2), ('سواء', 1), ('شأن', 1), ('طالب', 2), ('طلب', 2), ('عام', 2), ('عدد', 1), ('علم', 1), ('علمي', 1), ('علي', 1), ('عمل', 1), ('فتره', 3), ('في', 5), ('فيما', 1), ('قبل', 1), ('قبيلات', 4), ('قد', 1), ('ل', 1), ('لكن', 1), ('ما', 1), ('مالي', 1), ('متبرع', 2), ('محافظه', 2), ('مختلف', 1), ('مدرس', 2), ('مدرسه', 10), ('مدير', 1), ('مرحله', 1), ('مسبق', 1), ('مسح', 1), ('مع', 1), ('معرفه', 1), ('مفرق', 1), ('مقبل', 1), ('مكان', 1), ('من', 6), ('منذ', 1), ('منطقه', 1), ('منوهه', 1), ('مواطن', 1), ('نجوي', 1), ('نسبه', 1), ('نصف', 1), ('نظام', 3), ('نقص', 1), ('هذا', 2), ('وزاره', 9), ('وضع', 1), ('وطني', 1), ('وفق', 1), ('ي', 1)], [('أحتاج', 2), ('أمين', 2), ('أن', 1), ('إلي', 3), ('الذي', 6), ('بناء', 3), ('بين', 1), ('تحويل', 1), ('تربيه', 2), ('تعليم', 5), ('جاء', 1), ('خلال', 3), ('دكتور', 1), ('زال', 2), ('زياده', 1), ('شأن', 1), ('طالب', 1), ('طلب', 1), ('عام', 6), ('علمي', 1), ('علي', 2), ('عمل', 1), ('في', 20), ('ل', 1), ('ما', 3), ('مختلف', 1), ('مدرسه', 1), ('مدير', 3), ('معرفه', 1), ('من', 9), ('هذا', 3), ('وزاره', 3), ('وضع', 1), ('2022', 1), ('550', 1), ('؛', 3), ('آخر', 1), ('أبناء', 1), ('أتي', 1), ('أحتفل', 3), ('أخلاقي', 1), ('أداه', 1), ('أردن', 1), ('أردني', 1), ('أستذكر', 1), ('أعلن', 1), ('أقام', 1), ('أكاديمي', 1), ('أكتوبر', 1), ('أوائل', 1), ('أول', 1), ('إدواردز', 1), ('إسهام', 1), ('إضافي', 1), ('إعاده', 1), ('إمام', 1), ('إمكانات', 1), ('ابتكار', 1), ('احتفال', 1), ('اختيار', 1), ('ازولاي', 1), ('اعتراف', 1), ('العجارمه', 2), ('انجبو', 1), ('اودري', 1), ('ب', 3), ('بدأ', 1), ('برهن', 1), ('بلد', 1), ('تحديث', 1), ('تحمل', 1), ('تحول', 1), ('تشرين', 1), ('تطوير', 1), ('تعليمي', 2), ('تغيير', 1), ('تفكير', 2), ('تقدير', 1), ('تكريم', 2), ('تم', 1), ('تنفيذي', 1), ('جامعه', 1), ('جليل', 1), ('جميع', 1), ('جيل', 1), ('جيلبرت', 1), ('حاسم', 1), ('حصول', 1), ('حفل', 1), ('حيث', 2), ('خاص', 1), ('خامس', 1), ('خدمه', 1), ('دعا', 1), ('دعم', 1), ('دور', 3), ('دوله', 2), ('دولي', 2), ('ديفيد', 1), ('ذلك', 1), ('راحل', 1), ('راسل', 1), ('رساله', 2), ('سياسه', 1), ('شريك', 1), ('شقيقه', 1), ('صعب', 1), ('ضمان', 2), ('طريق', 1), ('عالم', 1), ('عربي', 1), ('عرف', 1), ('عمليه', 1), ('عن', 4), ('عنوان', 1), ('غايه', 1), ('قال', 1), ('قام', 1), ('قدره', 1), ('كاثرين', 1), ('كامل', 1), ('كبير', 1), ('كل', 1), ('كما', 1), ('كوكب', 1), ('مؤهل', 1), ('متعلم', 1), ('مدرب', 1), ('مديريه', 1), ('مسؤوليه', 1), ('مساهمه', 1), ('مسيره', 1), ('مشترك', 1), ('مشيد', 1), ('معلم', 18), ('مقعد', 1), ('ممارس', 1), ('مملكه', 1), ('مناسبه', 1), ('منتج', 1), ('منح', 1), ('منظمه', 3), ('مهاره', 1), ('مهنه', 1), ('موضوع', 1), ('موهبه', 1), ('نجز', 1), ('نحو', 1), ('نخبه', 1), ('نشء', 1), ('نشر', 1), ('نفس', 1), ('نهض', 1), ('نهضه', 2), ('نواف', 1), ('واجه', 1), ('وثوق', 1), ('وطن', 1), ('يوم', 7), ('يونيسف', 1), ('يونيسكو', 3)], [('10', 2), ('أحتاج', 3), ('أحد', 2), ('أشار', 2), ('أكد', 1), ('أمر', 2), ('أن', 32), ('أو', 5), ('إجراء', 6), ('إعداد', 1), ('إلي', 43), ('الذي', 18), ('بين', 2), ('تحديد', 1), ('تسليم', 1), ('تنسيق', 2), ('جديد', 1), ('حاجه', 1), ('خلال', 9), ('زال', 2), ('زياده', 4), ('سبب', 2), ('سنه', 1), ('شأن', 3), ('طلب', 4), ('عام', 8), ('علي', 29), ('عمل', 5), ('فتره', 1), ('في', 75), ('قبل', 6), ('قد', 13), ('ل', 2), ('لكن', 6), ('ما', 15), ('مالي', 1), ('مسبق', 1), ('مع', 10), ('مقبل', 5), ('مكان', 4), ('من', 71), ('منذ', 6), ('منطقه', 1), ('مواطن', 1), ('نسبه', 5), ('نقص', 5), ('هذا', 13), ('وضع', 3), ('وطني', 1), ('وفق', 3), ('ي', 6), ('2022', 3), ('آخر', 6), ('أتي', 1), ('أعلن', 1), ('أول', 3), ('إضافي', 3), ('إعاده', 2), ('ب', 1), ('بدأ', 2), ('بلد', 5), ('تحول', 1), ('تشرين', 1), ('تغيير', 1), ('تم', 7), ('حصول', 3), ('حيث', 4), ('خاص', 3), ('دعم', 3), ('دور', 1), ('دوله', 8), ('دولي', 4), ('ذلك', 14), ('صعب', 1), ('طريق', 2), ('عالم', 2), ('عمليه', 3), ('عن', 13), ('غايه', 2), ('قال', 6), ('قدره', 1), ('كامل', 3), ('كبير', 7), ('كل', 5), ('كما', 5), ('مملكه', 4), ('منتج', 1), ('نحو', 4), ('نفس', 2), ('واجه', 2), ('يوم', 1), ('1', 3), ('12', 1), ('130', 1), ('20', 1), ('2020', 2), ('2021', 3), ('2023', 2), ('225', 1), ('24', 1), ('25', 1), ('29', 1), ('3', 1), ('30', 1), ('300', 1), ('335', 1), ('341', 1), ('4', 5), ('40', 2), ('4266', 1), ('5', 1), ('55', 1), ('60', 1), ('65', 1), ('7', 2), ('80', 2), ('90', 1), ('95', 1), ('AG', 1), ('Centrica', 1), ('EnergyConnects', 1), ('EnergyCrisis', 1), ('EnergyNews', 1), ('Europe', 1), ('Nord', 1), ('NordStream', 1), ('OOTT', 1), ('Ofgem', 1), ('Read', 1), ('Russia', 2), ('Stream', 1), ('a', 1), ('according', 1), ('after', 1), ('biggest', 1), ('day', 1), ('gas', 1), ('here', 1), ('it', 1), ('maintenance', 1), ('more', 1), ('period', 1), ('pipeline', 1), ('s', 1), ('sending', 1), ('started', 1), ('through', 1), ('to', 2), ('آب', 1), ('آسيوي', 1), ('آن', 5), ('أب', 2), ('أتخذ', 1), ('أجبر', 1), ('أجري', 1), ('أجل', 3), ('أحتمل', 1), ('أخرج', 1), ('أخري', 10), ('أخير', 1), ('أد', 1), ('أدي', 1), ('أذربيجان', 2), ('أرتفع', 2), ('أرسل', 1), ('أزمه', 6), ('أساسي', 1), ('أسبوع', 1), ('أستأنف', 1), ('أستطاع', 1), ('أستغرق', 1), ('أستفاد', 1), ('أستورد', 1), ('أسر', 1), ('أسمنت', 1), ('أسوأ', 1), ('أصبح', 2), ('أصدر', 1), ('أضاف', 2), ('أضطر', 1), ('أظهار', 1), ('أعتبر', 1), ('أعزل', 1), ('أعطي', 1), ('أعلي', 1), ('أغلق', 1), ('أفاد', 1), ('أفريقيا', 1), ('أفضل', 1), ('أقترح', 1), ('أقصي', 1), ('أقل', 2), ('أكبر', 3), ('أكثر', 3), ('ألزم', 1), ('ألماني', 2), ('ألمانيا', 11), ('أما', 2), ('أمام', 2), ('أمريكي', 1), ('أمكن', 6), ('أنار', 1), ('أنبوب', 12), ('أنتج', 1), ('أنجلترا', 1), ('أوربا', 30), ('أوربي', 16), ('أورد', 7), ('أوقف', 1), ('أوكرانيا', 6), ('أولويه', 1), ('أي', 3), ('أيض', 1), ('أيلول', 1), ('إجمالي', 1), ('إذا', 5), ('إرباك', 1), ('إزاء', 1), ('إسترليني', 1), ('إشاره', 1), ('إضافه', 2), ('إطاله', 1), ('إطلاق', 1), ('إعطاء', 1), ('إمداد', 1), ('إمدادات', 17), ('إن', 6), ('إنتاج', 5), ('إيراد', 2), ('إيصال', 1), ('إيطاليا', 2), ('اتحاد', 5), ('اتخاذ', 5), ('احتمال', 4), ('احتياط', 1), ('اختبار', 2), ('ارتفاع', 5), ('استبعاد', 2), ('استجابه', 1), ('استخدام', 2), ('استعداد', 3), ('استغناء', 1), ('استقرار', 1), ('استمرار', 3), ('استهلاك', 5), ('اسلاند', 1), ('اسم', 1), ('اضطراب', 1), ('اضطرار', 1), ('اعتماد', 4), ('افتتاح', 1), ('اقتراب', 1), ('اقتصاد', 1), ('اقتصادي', 2), ('ال21', 1), ('الاحفوري', 1), ('القليلون', 1), ('الكربوني', 1), ('الكهرومائيه', 3), ('امتلاء', 1), ('انتقام', 2), ('انتكاس', 1), ('انتهاء', 1), ('انخفاض', 4), ('انفستك', 1), ('انقطاع', 2), ('بؤره', 1), ('باب', 1), ('باكستان', 1), ('باهظ', 1), ('بحر', 3), ('بدء', 1), ('بدايه', 3), ('بدل', 1), ('بريطانيا', 2), ('بساطه', 1), ('بسيطه', 1), ('بعد', 5), ('بلطيق', 2), ('بلغ', 1), ('بله', 1), ('بنك', 1), ('بوتين', 4), ('بولندا', 1), ('بيرتون', 1), ('بيسكوف', 1), ('بيلاروسي', 1), ('تأثير', 1), ('تابع', 2), ('تاريخ', 1), ('تاريخي', 1), ('تبريد', 1), ('تجاري', 2), ('تجاوز', 1), ('تجنب', 1), ('تحت', 2), ('تحدي', 2), ('تحرك', 1), ('تحقيق', 3), ('تحليل', 2), ('تخزين', 4), ('تخفيض', 2), ('تخلي', 2), ('تخوف', 1), ('تداعي', 1), ('تدفئه', 1), ('تدفق', 4), ('تذكير', 1), ('تراجع', 2), ('تراكم', 2), ('ترك', 2), ('تزايد', 2), ('تسبب', 1), ('تشيكي', 1), ('تصاعد', 1), ('تصدير', 5), ('تضامن', 2), ('تضخم', 1), ('تضمن', 1), ('تطبيق', 1), ('تطلب', 1), ('تعويض', 2), ('تعين', 3), ('تفاقم', 1), ('تقديم', 1), ('تقرر', 1), ('تقريب', 1), ('تقليل', 7), ('تقنين', 1), ('تقييد', 1), ('تكليف', 4), ('تلوث', 1), ('تمام', 1), ('تمثل', 2), ('تمكن', 1), ('تموز', 2), ('تناسب', 1), ('تنامي', 1), ('تنظيم', 1), ('تنظيمي', 1), ('تنفيذ', 2), ('تهديد', 1), ('توتر', 1), ('توجيه', 2), ('توعيه', 2), ('توفير', 2), ('توقع', 1), ('توقف', 1), ('تيرجي', 1), ('ثاني', 2), ('ثراء', 1), ('ثلاث', 2), ('ثمن', 2), ('جار', 1), ('جازبروم', 1), ('جاف', 2), ('جاه', 1), ('جب', 1), ('جدر', 1), ('جري', 1), ('جزء', 1), ('جعل', 1), ('جلب', 1), ('جماح', 1), ('جمع', 1), ('جنوب', 2), ('جني', 1), ('حال', 5), ('حاله', 1), ('حالي', 2), ('حام', 1), ('حتي', 3), ('حجم', 2), ('حد', 1), ('حدد', 1), ('حذر', 1), ('حراره', 2), ('حرب', 1), ('حزيران', 2), ('حسبما', 1), ('حصل', 2), ('حفاظ', 1), ('حقق', 1), ('حقيقي', 2), ('حكمه', 1), ('حكومه', 5), ('حلول', 2), ('حمايه', 1), ('حمل', 1), ('حمله', 2), ('حوال', 3), ('حول', 2), ('حين', 1), ('خام', 1), ('خبير', 4), ('خزان', 2), ('خزينه', 1), ('خط', 10), ('خطا', 1), ('خطط', 1), ('خطه', 2), ('خطوره', 1), ('خطوه', 3), ('خفض', 4), ('خلص', 1), ('خلق', 2), ('خمس', 3), ('خيار', 1), ('خير', 1), ('دائم', 2), ('درج', 1), ('درجه', 4), ('دفع', 1), ('دقيق', 1), ('دولار', 2), ('دون', 1), ('دونباس', 1), ('ديمتري', 1), ('ذروه', 1), ('رأي', 1), ('رئيس', 3), ('رابح', 1), ('رام', 6), ('راوند', 1), ('ربح', 1), ('ربيع', 2), ('رجع', 1), ('رحم', 1), ('رفاهيه', 1), ('رفع', 1), ('روسي', 16), ('روسيا', 18), ('رونينجين', 2), ('رويترز', 1), ('ري', 2), ('زاد', 3), ('زود', 1), ('سابق', 1), ('ساحل', 1), ('ساعه', 2), ('سرعه', 1), ('سريع', 1), ('سعر', 7), ('سعي', 3), ('سلطه', 1), ('سلعه', 1), ('سنوي', 1), ('سهم', 1), ('سوق', 5), ('سوي', 1), ('سياسي', 1), ('سياق', 2), ('سيما', 2), ('شباط', 1), ('شبكه', 2), ('شبه', 1), ('شتاء', 12), ('شح', 1), ('شحن', 1), ('شحنه', 1), ('شدد', 1), ('شديد', 2), ('شرقي', 1), ('شركه', 8), ('شعب', 1), ('شكل', 8), ('شمال', 3), ('شمل', 1), ('شهد', 3), ('شهر', 5), ('صادر', 5), ('صارم', 2), ('صحيح', 1), ('صدق', 1), ('صناعه', 1), ('صيانه', 2), ('صيف', 2), ('ضئيل', 1), ('ضاعف', 1), ('ضخ', 1), ('ضخم', 2), ('ضرر', 1), ('ضروري', 1), ('ضعف', 2), ('ضعيف', 1), ('ضمن', 1), ('ضمني', 1), ('طارئ', 1), ('طاقه', 32), ('طبيعي', 12), ('طريقه', 1), ('طقس', 2), ('طموح', 1), ('طين', 1), ('ظل', 1), ('عائد', 1), ('عاد', 3), ('عاده', 1), ('عالمي', 1), ('عباره', 1), ('عبر', 11), ('عدم', 1), ('عده', 2), ('عديد', 1), ('عض', 2), ('عضو', 1), ('عقوبه', 4), ('علل', 1), ('عمر', 1), ('عملاق', 2), ('عند', 4), ('عهد', 1), ('عوده', 1), ('غاز', 41), ('غازبروم', 1), ('غرب', 1), ('غربي', 2), ('غزو', 5), ('غولدمان', 1), ('غير', 5), ('ف', 1), ('فتح', 1), ('فحم', 3), ('فرض', 1), ('فرنسا', 4), ('فرنسي', 1), ('فشل', 1), ('فصل', 5), ('فعل', 7), ('فقط', 6), ('فلاديمير', 2), ('قائد', 2), ('قائم', 1), ('قادر', 1), ('قادم', 1), ('قاطع', 1), ('قباله', 1), ('قرار', 1), ('قرب', 3), ('قرر', 1), ('قريب', 1), ('قسوه', 1), ('قصير', 1), ('قطاع', 1), ('قطع', 5), ('قفز', 1), ('قلق', 2), ('قوه', 1), ('قوي', 1), ('قياده', 1), ('قياسي', 3), ('قيام', 2), ('قيد', 3), ('ك', 2), ('كافي', 1), ('كان', 11), ('كانون', 1), ('كبح', 1), ('كثير', 2), ('كرملين', 1), ('كسب', 1), ('كفي', 2), ('كميه', 4), ('كهرباء', 9), ('كور', 1), ('كيميائي', 1), ('لا', 10), ('لاحق', 1), ('لدي', 2), ('لعب', 1), ('لعبه', 1), ('لم', 3), ('لن', 1), ('لو', 1), ('لينكولنشاير', 1), ('مآس', 1), ('مؤخر', 1), ('مئه', 2), ('ماء', 1), ('ماضي', 6), ('مال', 1), ('مباشره', 1), ('مبلغ', 1), ('متحد', 4), ('متحدث', 1), ('متر', 2), ('متضرر', 1), ('متعلق', 1), ('متوسط', 1), ('متوفر', 1), ('مثل', 7), ('مجال', 2), ('مجاوره', 1), ('مجبر', 1), ('مجرد', 1), ('محاربه', 1), ('محتمل', 1), ('محدود', 1), ('محطه', 6), ('محفوف', 1), ('محل', 1), ('محلل', 2), ('محلي', 2), ('محيط', 1), ('مخاطر', 4), ('مخافه', 4), ('مختص', 2), ('مخزون', 1), ('مخيف', 1), ('مدي', 2), ('مذكور', 1), ('مر', 3), ('مرافق', 1), ('مربح', 1), ('مرتفع', 1), ('مرغوب', 1), ('مركز', 1), ('مره', 3), ('مزعزع', 1), ('مزيد', 2), ('مسأله', 1), ('مساعده', 1), ('مستثمر', 1), ('مستحيل', 1), ('مستخدم', 2), ('مستورد', 1), ('مستوي', 7), ('مسله', 2), ('مشكله', 2), ('مصدر', 2), ('مصطنع', 1), ('مصنع', 1), ('مطلوب', 2), ('معالجه', 1), ('معظم', 1), ('معيشه', 1), ('مفروض', 1), ('مفقود', 1), ('مفك', 1), ('مفوضيه', 1), ('مقابل', 1), ('مقارنه', 1), ('مقرر', 1), ('مكعب', 2), ('مكلف', 1), ('مكيفه', 1), ('ملء', 3), ('ملموس', 1), ('مليار', 3), ('مليون', 1), ('ممكن', 2), ('مملوك', 2), ('مناخ', 2), ('منتصف', 2), ('منخفض', 1), ('منزل', 2), ('منشأه', 1), ('منصرم', 1), ('منع', 3), ('مهم', 1), ('مواجهه', 1), ('موافقه', 1), ('مورد', 2), ('موسكو', 3), ('ميغاواط', 2), ('ناتج', 1), ('ناجم', 2), ('ناقله', 1), ('نجح', 1), ('نجم', 1), ('نرويج', 5), ('نرويجي', 1), ('نظر', 1), ('نظيف', 1), ('نفد', 1), ('نفط', 4), ('نفوذ', 3), ('نقطه', 2), ('نقل', 1), ('نمسا', 1), ('نهج', 1), ('نوع', 1), ('ني', 4), ('نيسان', 1), ('ه', 1), ('هادئ', 1), ('هايدن', 3), ('هبط', 1), ('هجوم', 1), ('هدف', 2), ('هرب', 1), ('هم', 1), ('هناك', 1), ('هو', 6), ('هولاندا', 1), ('هولاندي', 1), ('هي', 5), ('هيئه', 1), ('و', 7), ('واحد', 1), ('وارد', 1), ('واضح', 2), ('وجد', 1), ('وجه', 1), ('وحيد', 1), ('وراء', 1), ('وزير', 1), ('وسع', 1), ('وصل', 1), ('وصول', 1), ('وفر', 1), ('وقت', 4), ('وقع', 1), ('وقف', 1), ('وقود', 1), ('وكاله', 4), ('وكس', 1), ('ويست', 1), ('يد', 1), ('يقين', 1), ('يورو', 2), ('يونيبر', 2), ('٪', 4)]]\n"
     ]
    }
   ],
   "source": [
    "corpus = [dictionary.doc2bow(desc) for desc in content_data]\n",
    "\n",
    "word_frequencies = [[(dictionary[id_], frequency) for id_, frequency in line] for line in corpus[0:3]]\n",
    "\n",
    "print(word_frequencies)"
   ]
  },
  {
   "cell_type": "markdown",
   "id": "fe46a198",
   "metadata": {
    "papermill": {
     "duration": 0.013049,
     "end_time": "2020-08-30T18:50:08.013330",
     "exception": false,
     "start_time": "2020-08-30T18:50:08.000281",
     "status": "completed"
    },
    "tags": []
   },
   "source": [
    "The above results shows vocabulary with their frequency."
   ]
  },
  {
   "cell_type": "markdown",
   "id": "e5fdafad",
   "metadata": {
    "papermill": {
     "duration": 0.012794,
     "end_time": "2020-08-30T18:50:08.039222",
     "exception": false,
     "start_time": "2020-08-30T18:50:08.026428",
     "status": "completed"
    },
    "tags": []
   },
   "source": [
    "### Build Tf-Idf and LSI Model\n",
    "\n",
    "Tf-Idf means, Term frequency-Inverse Document Frequency. it is a commonly used NLP model that helps you determine the most important words in each document in the corpus. Once the Tf-Idf is build, pass it to LSI model and specify the num of features to build"
   ]
  },
  {
   "cell_type": "code",
   "execution_count": 97,
   "id": "4efb00cd",
   "metadata": {
    "execution": {
     "iopub.execute_input": "2020-08-30T18:50:08.094192Z",
     "iopub.status.busy": "2020-08-30T18:50:08.089109Z",
     "iopub.status.idle": "2020-08-30T18:50:09.153939Z",
     "shell.execute_reply": "2020-08-30T18:50:09.152853Z"
    },
    "papermill": {
     "duration": 1.10169,
     "end_time": "2020-08-30T18:50:09.154078",
     "exception": false,
     "start_time": "2020-08-30T18:50:08.052388",
     "status": "completed"
    },
    "tags": []
   },
   "outputs": [
    {
     "name": "stdout",
     "output_type": "stream",
     "text": [
      "CPU times: total: 156 ms\n",
      "Wall time: 147 ms\n",
      "CPU times: total: 16.5 s\n",
      "Wall time: 5.79 s\n"
     ]
    }
   ],
   "source": [
    "%time SE_arabic_tfidf_model = models.TfidfModel(corpus, id2word=dictionary)\n",
    "%time SE_arabic_lsi_model = models.LsiModel(SE_arabic_tfidf_model[corpus], id2word=dictionary, num_topics=300)"
   ]
  },
  {
   "cell_type": "markdown",
   "id": "25fc18a7",
   "metadata": {
    "papermill": {
     "duration": 0.013169,
     "end_time": "2020-08-30T18:50:09.186146",
     "exception": false,
     "start_time": "2020-08-30T18:50:09.172977",
     "status": "completed"
    },
    "tags": []
   },
   "source": [
    "Serialize and Store the corpus locally for easy retrival whenver required."
   ]
  },
  {
   "cell_type": "code",
   "execution_count": 98,
   "id": "d47d35e1",
   "metadata": {
    "execution": {
     "iopub.execute_input": "2020-08-30T18:50:09.223378Z",
     "iopub.status.busy": "2020-08-30T18:50:09.219728Z",
     "iopub.status.idle": "2020-08-30T18:50:09.575095Z",
     "shell.execute_reply": "2020-08-30T18:50:09.575865Z"
    },
    "papermill": {
     "duration": 0.376262,
     "end_time": "2020-08-30T18:50:09.576041",
     "exception": false,
     "start_time": "2020-08-30T18:50:09.199779",
     "status": "completed"
    },
    "tags": []
   },
   "outputs": [
    {
     "name": "stdout",
     "output_type": "stream",
     "text": [
      "CPU times: total: 2.36 s\n",
      "Wall time: 2.37 s\n",
      "CPU times: total: 4.41 s\n",
      "Wall time: 4.48 s\n"
     ]
    }
   ],
   "source": [
    "%time corpora.MmCorpus.serialize('SE_arabic_tfidf_model_mm', SE_arabic_tfidf_model[corpus])\n",
    "%time corpora.MmCorpus.serialize('SE_arabic_lsi_model_mm',SE_arabic_lsi_model[SE_arabic_tfidf_model[corpus]])"
   ]
  },
  {
   "cell_type": "code",
   "execution_count": 99,
   "id": "af177b81",
   "metadata": {
    "execution": {
     "iopub.execute_input": "2020-08-30T18:50:09.614092Z",
     "iopub.status.busy": "2020-08-30T18:50:09.613365Z",
     "iopub.status.idle": "2020-08-30T18:50:09.619317Z",
     "shell.execute_reply": "2020-08-30T18:50:09.618679Z"
    },
    "papermill": {
     "duration": 0.02713,
     "end_time": "2020-08-30T18:50:09.619429",
     "exception": false,
     "start_time": "2020-08-30T18:50:09.592299",
     "status": "completed"
    },
    "tags": []
   },
   "outputs": [
    {
     "name": "stdout",
     "output_type": "stream",
     "text": [
      "MmCorpus(5084 documents, 23922 features, 740285 non-zero entries)\n",
      "MmCorpus(5084 documents, 300 features, 1499100 non-zero entries)\n"
     ]
    }
   ],
   "source": [
    "#Load the indexed corpus\n",
    "SE_arabic_tfidf_corpus = corpora.MmCorpus('SE_arabic_tfidf_model_mm')\n",
    "SE_arabic_lsi_corpus = corpora.MmCorpus('SE_arabic_lsi_model_mm')\n",
    "\n",
    "print(SE_arabic_tfidf_corpus)\n",
    "print(SE_arabic_lsi_corpus)\n"
   ]
  },
  {
   "cell_type": "code",
   "execution_count": 147,
   "id": "af399609",
   "metadata": {
    "execution": {
     "iopub.execute_input": "2020-08-30T18:50:09.655115Z",
     "iopub.status.busy": "2020-08-30T18:50:09.654183Z",
     "iopub.status.idle": "2020-08-30T18:50:09.670496Z",
     "shell.execute_reply": "2020-08-30T18:50:09.669801Z"
    },
    "papermill": {
     "duration": 0.037184,
     "end_time": "2020-08-30T18:50:09.670608",
     "exception": false,
     "start_time": "2020-08-30T18:50:09.633424",
     "status": "completed"
    },
    "tags": []
   },
   "outputs": [
    {
     "name": "stdout",
     "output_type": "stream",
     "text": [
      "CPU times: total: 1.97 s\n",
      "Wall time: 2 s\n"
     ]
    }
   ],
   "source": [
    "from gensim.similarities import MatrixSimilarity\n",
    "\n",
    "%time SE_index = MatrixSimilarity(SE_arabic_lsi_corpus, num_features = SE_arabic_lsi_corpus.num_terms)"
   ]
  },
  {
   "cell_type": "markdown",
   "id": "f8c8a232",
   "metadata": {
    "papermill": {
     "duration": 0.013713,
     "end_time": "2020-08-30T18:50:09.698061",
     "exception": false,
     "start_time": "2020-08-30T18:50:09.684348",
     "status": "completed"
    },
    "tags": []
   },
   "source": [
    "## Time for Semantic Search\n",
    "\n",
    "Now comes the fun part. With the index of movies initialized and loaded, we can use it to find similar movies based\n",
    "\n",
    "\n",
    "We will input a search query and model will return relevant movie titles with \"Relevance %\" which is the similarity score. The higher the similarity score, the more similar the query to the documetn at the given index"
   ]
  },
  {
   "cell_type": "markdown",
   "id": "e7d0e3d0",
   "metadata": {
    "papermill": {
     "duration": 0.013944,
     "end_time": "2020-08-30T18:50:09.726051",
     "exception": false,
     "start_time": "2020-08-30T18:50:09.712107",
     "status": "completed"
    },
    "tags": []
   },
   "source": [
    "Below is the helper function to search the index, sort and return the results"
   ]
  },
  {
   "cell_type": "code",
   "execution_count": 103,
   "id": "439e4e17",
   "metadata": {},
   "outputs": [],
   "source": [
    "# spacy_tokenizer"
   ]
  },
  {
   "cell_type": "code",
   "execution_count": 160,
   "id": "a1872b6b",
   "metadata": {
    "execution": {
     "iopub.execute_input": "2020-08-30T18:50:09.764392Z",
     "iopub.status.busy": "2020-08-30T18:50:09.763382Z",
     "iopub.status.idle": "2020-08-30T18:50:09.766238Z",
     "shell.execute_reply": "2020-08-30T18:50:09.766724Z"
    },
    "papermill": {
     "duration": 0.026356,
     "end_time": "2020-08-30T18:50:09.766869",
     "exception": false,
     "start_time": "2020-08-30T18:50:09.740513",
     "status": "completed"
    },
    "tags": []
   },
   "outputs": [],
   "source": [
    "from operator import itemgetter\n",
    "\n",
    "def search_similar_documents(search_term):\n",
    "    print('Searching {}'.format(search_term))\n",
    "    print()\n",
    "\n",
    "    query_bow = dictionary.doc2bow(search_term.split())\n",
    "    query_tfidf = SE_arabic_tfidf_model[query_bow]\n",
    "    query_lsi = SE_arabic_lsi_model[query_tfidf]\n",
    "\n",
    "    SE_index.num_best = 5\n",
    "\n",
    "    SEs_list = SE_index[query_lsi]\n",
    "\n",
    "    SEs_list.sort(key=itemgetter(1), reverse=True)\n",
    "    SE_names = []\n",
    "\n",
    "    for j, SE in enumerate(SEs_list):\n",
    "        dict_entry = {\n",
    "                'Relevance': round((SE[1] * 100),2),\n",
    "                'Title': docs_df_cleaned['title'][SE[0]],\n",
    "                'Content': docs_df_cleaned['content_clean'][SE[0]]\n",
    "            }\n",
    "        print(\"Title:  {}  (score: {})\".format(dict_entry['Title'], dict_entry['Relevance']))\n",
    "        print(\"(Content) {}\".format(dict_entry['Content']))\n",
    "        print()\n",
    "        \n",
    "        \n",
    "        SE_names.append (\n",
    "            dict_entry\n",
    "        )\n",
    "        if j == (SE_index.num_best-1):\n",
    "            break\n",
    "    \n",
    "    return pd.DataFrame(SE_names, columns=['Relevance','Title','Content'])\n"
   ]
  },
  {
   "cell_type": "code",
   "execution_count": 170,
   "id": "ac79b5dc",
   "metadata": {
    "execution": {
     "iopub.execute_input": "2020-08-30T18:50:09.799715Z",
     "iopub.status.busy": "2020-08-30T18:50:09.799076Z",
     "iopub.status.idle": "2020-08-30T18:50:09.820619Z",
     "shell.execute_reply": "2020-08-30T18:50:09.820032Z"
    },
    "papermill": {
     "duration": 0.039919,
     "end_time": "2020-08-30T18:50:09.820736",
     "exception": false,
     "start_time": "2020-08-30T18:50:09.780817",
     "status": "completed"
    },
    "tags": []
   },
   "outputs": [
    {
     "name": "stdout",
     "output_type": "stream",
     "text": [
      "Searching ديوان ملك\n",
      "\n",
      "Title:  حداد: عدم امتلاك ديوان المحاسبة الضابطة العدلية أضعف دوره  (score: 84.68)\n",
      "(Content) حداد عدم امتلاك ديوان محاسبه ضابطه عدل ي أضعف دور قال رئيس ديوان محاسبه عاصم حداد أن عدم امتلاك ديوان محاسبه ضابطه عدل ي أضعف دور قدره علي حفاظ علي مال عام مشدد علي ضروره امتلاك أداه أو آلي إلزام مؤسسه الذي خضع رقابه أجاب ه علي استيضاح أضاف خلال لقاء في منتدي إعلام ي الذي نظم مركز حمايه حر صحف ي تعاون مع شركه زين مساء أمس أن غياب ضابطه عدل ي أفقد ديوان قوه لازم إجبار جهه الذي خضع ديوان محاسبه اتخاذ قرار تصويب ي لازم أو تحويل إلي هيئه نزاهه أو قضاء أشار إلي معاناه ديوان نقص كادر بشري سبب قرار حكومه إجراء إحاله علي تقاعد وقف تعيين نتيجه جائح كور لافت إلي أن ديوان عمل علي تعويض ذلك نقص من خلال تحول رقمي كلي أكد وجود عائق تحول دون عمل ديوان رغم تمتع ديوان أراد ه سياسي دعم ما خلل تطبيق أن كل خشي رقابه هي غير محبب قال أن بقاء أمر تعيين عزل رئيس ديوان محاسبه بتنسيب من رئيس وزير حلقه ضعف في عمل من ناحيه إداري رئيس ديوان محاسبه أرتبط رئيس وزير رقابي ؛ أرتبط ديوان المحاسبهبمجلس أمه لكن التنسيب تعيين تم من خلال مجلس وزير حاجه إلي أراد ملك أما عزل رئيس ديوان محاسبه أحتاج أيض إلي أراد ملك كان أمل أن كان من بين وظيفه الذي عين ملك شكل مباشر رئيس ديوان محاسبه \n",
      "\n",
      "Title:  جائحة كورونا أوقفت ملء 120 شاغرا في ديوان المحاسبة  (score: 79.91)\n",
      "(Content) جائح كور أوقف ملء 120 شاغر في ديوان محاسبه أعترف رئيس ديوان محاسبه د عاصم حداد في مقابل مع حسني يوم أن جهاز ديوان محاسبه لم حصل علي أي تطور توافق مع ضاعف عمل رقابي موكل إلي أكد أن رقابه داخلي هي خط دفاع أول في رقابه داخل مؤسسه من دون إن عمل ديوان محاسبه فشل قال أن ديوان راقب كل إيراد نفقه موازنه عام ما في عمل قوه مسلح جهاز أمني ديوان ملك ي معتبر أن عدد كادر بشري قليل جد نسب حجم عمل الذي قام ب إذ ضم كادر 490 موظف من 300 موظف مهمه مراقب فقط كما راقب ديوان حسب حداد جميع شركه الذي أسهم ب حكومه ما نسبه 50 أكثر أضاف أن مجلس وزير ملك صلاحيه تكليف ديوان رقابه علي أي جهه أخري ما عدا قطاع خاص أضاف هذا إلي إلي صلاحيه لا أستطاع أي مجلس وزير إلغاء هذا صلاحيه أكد أن جائح كور أوقف ملء 120 شاغر في ديوان محاسبه مبين أن رئيس وزير وعد تعيين خلال موازنه جديد أوضح أن مجلس وزير طلب أيض ملء نقص في كادر ديوان محاسبه من موظف دوله وزاره أخري مع أن عمل ديوان محاسبه تطلب شهاده مهني الذي ساعد علي رقابه حقيقي أكثر من شهاده أكاديمي قال أن حاول طرح نظام خاص ديوان محاسبه علي مجلس نائب حافظ علي استقلال ي ديوان تعزيز رقابه مال عام من خلال تعيين كفاءات خارج نظام ديوان خدمه مدني \n",
      "\n",
      "Title:  حداد:لم يمنع ديوان المحاسبة من التدقيق على أعمال مجلس الأمة  (score: 76.82)\n",
      "(Content) حداد لم منع ديوان محاسبه من تدقيق علي عمل مجلس أمه علم حسني أن فريق من ديوان محاسبه تابع تدقيق سجل مجلس أمه ؛ كشف عن وجود مخالفه أول ثني قيام عمل أمر الذي أثار حفيظه رئاسه مجلس حول إلي عمل مدقق ديوان وفق مصدر مطلع إن مدقق ديوان تم منع من متابعه عمل في تدقيق من خلال اتصال مع عده جهه ذات علاقه متابعه هذا موضوع تواصل حسني مع رئيس ديوان محاسبه عاصم حداد الذي أكد أن لم أتصل ب أي مسؤول خصوص منع فريق من ديوان محاسبه قيام مهمه في تدقيق بيان عمل الذي قام ب مجلس أمه أكد حداد أن من طبيعه عمل أسلوب عامل في ديوان محاسبه عند تدقيق معلومه وقوف عند جميع حيثيه بيان أمر الذي جعل من طبيعه عمل استفزاز ي موضح أن فريق مستمر في عمل في مجلس أمه متابعه تقرير سنوي الذي صدر في كل عام تم توزيع علي مختلف جهه إذ أن ديوان جهه رقابي مارس حق دستوري في رقابه علي مال دوله تشريع الذي أتصل عمل ديوان قام ديوان محاسبه دور من خلال رقابه شامل مستقل علي مال عام ما أسهم في ارتقاء كفاءه فعاليه شفافيه مساءله إداره حكومي \n",
      "\n",
      "Title:  ديوان المحاسبة : مئات من القضايا التي حدثت بها تجاوزات إدارية لم يبت بها لغاية الآن  (score: 74.62)\n",
      "(Content) ديوان محاسبه مئه من قضيه الذي حدث ب تجاوز إداري لم بت ب غايه آن قال رئيس ديوان محاسبه عاصم حداد أن تقرير إيضاح ديوان محاسبه أصبح تابع من قبل وحد داخل رئاسه وزير تم بث ب خلال عشره يوم قبل صدور تقرير سنوي أضاف حداد حسني أن ديوان اعتبار من بدايه عام 2020 تحول في عمل إلي منهجي شموليه في رقابه متابعه عمل مؤسسه حكومي ضمن خط حدد إجراء تجاوز أن وجد كشف عن مئه من قضيه الذي وجد في ديوان تجاوز لم بت ب غايه آن لافت إلي أن 50 مئه من قضيه الذي تابع ديوان محاسبه أتي عن طريق إعلام من مواطن أشار إلي تركيز في عمل علي عنصر بشري حدث تطور في عمل ديوان لافت إلي تخصيص مليون دينار ضمن ملحق موازنه غايه تعيين تطوير \n",
      "\n",
      "Title:  \"الخدمة المدنية\" يدعو مرشحين للامتحان (أسماء)  (score: 73.78)\n",
      "(Content)  خدمه مدني دعا مرشح امتحان اسم  دعا ديوان خدمه مدني تنسيق مع صندوق استثمار مال ضمان اجتماع ي تالي اسم من أنطبق علي شرط مراجعه ديوان طلب ديوان من مرشح تواجد في مبني ديوان يوم ثلاثاء مقبل حضور امتحان تنافسي تالي اسم \n",
      "\n"
     ]
    },
    {
     "data": {
      "text/html": [
       "<div>\n",
       "<style scoped>\n",
       "    .dataframe tbody tr th:only-of-type {\n",
       "        vertical-align: middle;\n",
       "    }\n",
       "\n",
       "    .dataframe tbody tr th {\n",
       "        vertical-align: top;\n",
       "    }\n",
       "\n",
       "    .dataframe thead th {\n",
       "        text-align: right;\n",
       "    }\n",
       "</style>\n",
       "<table border=\"1\" class=\"dataframe\">\n",
       "  <thead>\n",
       "    <tr style=\"text-align: right;\">\n",
       "      <th></th>\n",
       "      <th>Relevance</th>\n",
       "      <th>Title</th>\n",
       "      <th>Content</th>\n",
       "    </tr>\n",
       "  </thead>\n",
       "  <tbody>\n",
       "    <tr>\n",
       "      <th>0</th>\n",
       "      <td>84.68</td>\n",
       "      <td>حداد: عدم امتلاك ديوان المحاسبة الضابطة العدلي...</td>\n",
       "      <td>حداد عدم امتلاك ديوان محاسبه ضابطه عدل ي أضعف ...</td>\n",
       "    </tr>\n",
       "    <tr>\n",
       "      <th>1</th>\n",
       "      <td>79.91</td>\n",
       "      <td>جائحة كورونا أوقفت ملء 120 شاغرا في ديوان المح...</td>\n",
       "      <td>جائح كور أوقف ملء 120 شاغر في ديوان محاسبه أعت...</td>\n",
       "    </tr>\n",
       "    <tr>\n",
       "      <th>2</th>\n",
       "      <td>76.82</td>\n",
       "      <td>حداد:لم يمنع ديوان المحاسبة من التدقيق على أعم...</td>\n",
       "      <td>حداد لم منع ديوان محاسبه من تدقيق علي عمل مجلس...</td>\n",
       "    </tr>\n",
       "    <tr>\n",
       "      <th>3</th>\n",
       "      <td>74.62</td>\n",
       "      <td>ديوان المحاسبة : مئات من القضايا التي حدثت بها...</td>\n",
       "      <td>ديوان محاسبه مئه من قضيه الذي حدث ب تجاوز إدار...</td>\n",
       "    </tr>\n",
       "    <tr>\n",
       "      <th>4</th>\n",
       "      <td>73.78</td>\n",
       "      <td>\"الخدمة المدنية\" يدعو مرشحين للامتحان (أسماء)</td>\n",
       "      <td>خدمه مدني دعا مرشح امتحان اسم  دعا ديوان خدمه...</td>\n",
       "    </tr>\n",
       "  </tbody>\n",
       "</table>\n",
       "</div>"
      ],
      "text/plain": [
       "   Relevance                                              Title  \\\n",
       "0      84.68  حداد: عدم امتلاك ديوان المحاسبة الضابطة العدلي...   \n",
       "1      79.91  جائحة كورونا أوقفت ملء 120 شاغرا في ديوان المح...   \n",
       "2      76.82  حداد:لم يمنع ديوان المحاسبة من التدقيق على أعم...   \n",
       "3      74.62  ديوان المحاسبة : مئات من القضايا التي حدثت بها...   \n",
       "4      73.78      \"الخدمة المدنية\" يدعو مرشحين للامتحان (أسماء)   \n",
       "\n",
       "                                             Content  \n",
       "0  حداد عدم امتلاك ديوان محاسبه ضابطه عدل ي أضعف ...  \n",
       "1  جائح كور أوقف ملء 120 شاغر في ديوان محاسبه أعت...  \n",
       "2  حداد لم منع ديوان محاسبه من تدقيق علي عمل مجلس...  \n",
       "3  ديوان محاسبه مئه من قضيه الذي حدث ب تجاوز إدار...  \n",
       "4   خدمه مدني دعا مرشح امتحان اسم  دعا ديوان خدمه...  "
      ]
     },
     "execution_count": 170,
     "metadata": {},
     "output_type": "execute_result"
    }
   ],
   "source": [
    "# search for movie tiles that are related to below search parameters\n",
    "search_similar_documents(clean_text2('ديوان ملكي'))"
   ]
  },
  {
   "cell_type": "markdown",
   "id": "6926c43e",
   "metadata": {
    "papermill": {
     "duration": 0.014029,
     "end_time": "2020-08-30T18:50:09.848959",
     "exception": false,
     "start_time": "2020-08-30T18:50:09.834930",
     "status": "completed"
    },
    "tags": []
   },
   "source": [
    "The model returns movie titles with \"Relevance %\". Definitely, the top list movies are related to crimes and drugs."
   ]
  },
  {
   "cell_type": "code",
   "execution_count": null,
   "id": "90853864",
   "metadata": {},
   "outputs": [],
   "source": []
  }
 ],
 "metadata": {
  "kernelspec": {
   "display_name": "haystack-venv",
   "language": "python",
   "name": "haystack-venv"
  },
  "language_info": {
   "codemirror_mode": {
    "name": "ipython",
    "version": 3
   },
   "file_extension": ".py",
   "mimetype": "text/x-python",
   "name": "python",
   "nbconvert_exporter": "python",
   "pygments_lexer": "ipython3",
   "version": "3.10.1"
  }
 },
 "nbformat": 4,
 "nbformat_minor": 5
}
