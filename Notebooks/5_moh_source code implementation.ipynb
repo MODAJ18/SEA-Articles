{
 "cells": [
  {
   "cell_type": "markdown",
   "id": "b10c728b",
   "metadata": {},
   "source": [
    "# 1- Imports (Source Code + Libraries)"
   ]
  },
  {
   "cell_type": "code",
   "execution_count": 8,
   "id": "d0976909",
   "metadata": {},
   "outputs": [],
   "source": [
    "import pickle\n",
    "import numpy as np\n",
    "import pandas as pd\n",
    "\n",
    "import os"
   ]
  },
  {
   "cell_type": "code",
   "execution_count": 9,
   "id": "24cdbded",
   "metadata": {},
   "outputs": [],
   "source": [
    "# adding source code parent directory\n",
    "import sys\n",
    "sys.path.append('..\\\\Src')"
   ]
  },
  {
   "cell_type": "markdown",
   "id": "ddf70eec",
   "metadata": {},
   "source": [
    "### 1.1 Data Preprocessing Modules"
   ]
  },
  {
   "cell_type": "code",
   "execution_count": 25,
   "id": "2cda9f7e",
   "metadata": {},
   "outputs": [],
   "source": [
    "from preprocessing.data_prep import read_data\n",
    "from preprocessing.data_clean import clean_data2, clean_text\n",
    "from preprocessing.feature_extract import create_vectorizer"
   ]
  },
  {
   "cell_type": "markdown",
   "id": "6f7b4c96",
   "metadata": {},
   "source": [
    "### 1.2 Search Engine Module"
   ]
  },
  {
   "cell_type": "code",
   "execution_count": 11,
   "id": "5d1c0b70",
   "metadata": {},
   "outputs": [],
   "source": [
    "from search.search_engine import Search_Engine"
   ]
  },
  {
   "cell_type": "markdown",
   "id": "cdbf2915",
   "metadata": {},
   "source": [
    "### 1.3 utils"
   ]
  },
  {
   "cell_type": "code",
   "execution_count": 12,
   "id": "a8cbcd11",
   "metadata": {},
   "outputs": [],
   "source": [
    "from utils.modify_stop_words import modify_sw"
   ]
  },
  {
   "cell_type": "markdown",
   "id": "8e15e803",
   "metadata": {},
   "source": [
    "# 2- Preparation for SE"
   ]
  },
  {
   "cell_type": "code",
   "execution_count": 6,
   "id": "819d67a6",
   "metadata": {},
   "outputs": [],
   "source": [
    "# variables set\n",
    "data_path = \"../Data/husna.json\"\n",
    "cols = ['text_clean', 'summary_clean', 'title_clean', 'tags']\n",
    "cols_weights = {'text_clean': 0.5, 'summary_clean': 0.15, 'title_clean': 0.2, 'tags': 0.1}"
   ]
  },
  {
   "cell_type": "code",
   "execution_count": 7,
   "id": "6a80122c",
   "metadata": {},
   "outputs": [],
   "source": [
    "# prepare stop words (use when list.csv is not available)\n",
    "# modify_sw(path='../Data/stop_words/stop_words_list.txt')"
   ]
  },
  {
   "cell_type": "code",
   "execution_count": 13,
   "id": "ea93de9d",
   "metadata": {
    "scrolled": true
   },
   "outputs": [],
   "source": [
    "# import -> clean data\n",
    "docs_df = read_data(data_path)\n",
    "docs_df_cleaned = clean_data2(docs_df)    "
   ]
  },
  {
   "cell_type": "code",
   "execution_count": 14,
   "id": "83a6a69a",
   "metadata": {},
   "outputs": [
    {
     "data": {
      "text/plain": [
       "(6366, 11)"
      ]
     },
     "execution_count": 14,
     "metadata": {},
     "output_type": "execute_result"
    }
   ],
   "source": [
    "docs_df.shape"
   ]
  },
  {
   "cell_type": "code",
   "execution_count": 15,
   "id": "e0233c15",
   "metadata": {},
   "outputs": [],
   "source": [
    "vectorizers = {}\n",
    "\n",
    "for col in cols[:-1]:\n",
    "    # create vectorizer for each column\n",
    "    vectorizers[col] = create_vectorizer(docs_df_cleaned, from_feature=col)\n",
    "    \n",
    "    # saving vectorizers for SE preprocessing\n",
    "    vectorizer_to_save = vectorizers[col]\n",
    "    if vectorizer_to_save != None:\n",
    "        pickle.dump(vectorizer_to_save, open(f\"../Results/saved_vectorizers/{col}_tfidf.pickle\", \"wb\"))\n",
    "        \n",
    "# saving cleaned data\n",
    "docs_df_cleaned_SE = docs_df_cleaned[['_id', 'url', 'title', 'text', 'published_at', 'article_type', 'tags', 'text_clean', 'summary_clean', \n",
    "                                              'title_clean']]\n",
    "docs_df_cleaned_SE.to_csv('../Data/processed/SE_data1.csv', index=False, encoding='utf-8-sig')"
   ]
  },
  {
   "cell_type": "markdown",
   "id": "893f5998",
   "metadata": {},
   "source": [
    "# 3- using SE"
   ]
  },
  {
   "cell_type": "code",
   "execution_count": 27,
   "id": "c5ef3787",
   "metadata": {},
   "outputs": [
    {
     "name": "stdout",
     "output_type": "stream",
     "text": [
      "^C\n"
     ]
    }
   ],
   "source": [
    "!python -m pip install elasticsearch"
   ]
  },
  {
   "cell_type": "code",
   "execution_count": 21,
   "id": "2a6d2102",
   "metadata": {},
   "outputs": [],
   "source": [
    "SE_df = pd.read_csv('../Data/processed/SE_data1.csv', keep_default_na=False, encoding='utf-8-sig')"
   ]
  },
  {
   "cell_type": "code",
   "execution_count": 22,
   "id": "15b6637e",
   "metadata": {
    "scrolled": true
   },
   "outputs": [
    {
     "data": {
      "text/html": [
       "<div>\n",
       "<style scoped>\n",
       "    .dataframe tbody tr th:only-of-type {\n",
       "        vertical-align: middle;\n",
       "    }\n",
       "\n",
       "    .dataframe tbody tr th {\n",
       "        vertical-align: top;\n",
       "    }\n",
       "\n",
       "    .dataframe thead th {\n",
       "        text-align: right;\n",
       "    }\n",
       "</style>\n",
       "<table border=\"1\" class=\"dataframe\">\n",
       "  <thead>\n",
       "    <tr style=\"text-align: right;\">\n",
       "      <th></th>\n",
       "      <th>_id</th>\n",
       "      <th>url</th>\n",
       "      <th>title</th>\n",
       "      <th>text</th>\n",
       "      <th>published_at</th>\n",
       "      <th>article_type</th>\n",
       "      <th>tags</th>\n",
       "      <th>text_clean</th>\n",
       "      <th>summary_clean</th>\n",
       "      <th>title_clean</th>\n",
       "    </tr>\n",
       "  </thead>\n",
       "  <tbody>\n",
       "    <tr>\n",
       "      <th>0</th>\n",
       "      <td>633fdfd13ffae8229d05cb33</td>\n",
       "      <td>https://husna.fm/%D9%85%D8%AD%D9%84%D9%8A/%D8%...</td>\n",
       "      <td>التربية: تحويل 42 مدرسة إلى نظام الفترتين واست...</td>\n",
       "      <td>أكدت أمين عام  وزارة  التربية والتعليم للشؤون ...</td>\n",
       "      <td>2022-10-06 07:33:00</td>\n",
       "      <td>News</td>\n",
       "      <td>['التربية والتعليم', 'وزارة التربية والتعليم']</td>\n",
       "      <td>اكد امين عام وزاره تربيه تعليم شان مالي اداري ...</td>\n",
       "      <td></td>\n",
       "      <td>تربيه   تحويل 42 مدرسه الي نظام فتره استءجار 1...</td>\n",
       "    </tr>\n",
       "    <tr>\n",
       "      <th>1</th>\n",
       "      <td>633fdfd13ffae8229d05cb34</td>\n",
       "      <td>https://husna.fm/%D9%85%D8%AD%D9%84%D9%8A/%D8%...</td>\n",
       "      <td>تكريما للمعلمين زيادة منح أبناء المعلمين 550 م...</td>\n",
       "      <td>احتفلت  وزارة التربية والتعليم  بيوم المعلم بت...</td>\n",
       "      <td>2022-10-05 11:46:00</td>\n",
       "      <td>News</td>\n",
       "      <td>['مكرمة أبناء المعلمين', 'وزارة التربية والتعل...</td>\n",
       "      <td>احتفل وزاره تربيه تعليم يوم معلم تكريم نخبه مع...</td>\n",
       "      <td></td>\n",
       "      <td>تكريم معلم زياده منح ابناء معلم 550 مقعد اضافي...</td>\n",
       "    </tr>\n",
       "    <tr>\n",
       "      <th>2</th>\n",
       "      <td>633fdfd13ffae8229d05cb35</td>\n",
       "      <td>https://husna.fm/%D9%85%D9%84%D9%81%D8%A7%D8%A...</td>\n",
       "      <td>الغاز الروسي يضع أوروبا خلال الشتاء المقبل أما...</td>\n",
       "      <td>يشهد العالم أول أزمة طاقة عالمية حقيقية في الت...</td>\n",
       "      <td>2022-08-22 07:17:00</td>\n",
       "      <td>News</td>\n",
       "      <td>['الغاز الروسي', 'أوروبا', 'أزمة الطاقة']</td>\n",
       "      <td>شهد عالم اول ازمه طاقه عالم حقيقي تاريخ . تنام...</td>\n",
       "      <td></td>\n",
       "      <td>غاز روسي وضع اوربا خلال شتاء مقبل امام اختبار ...</td>\n",
       "    </tr>\n",
       "    <tr>\n",
       "      <th>3</th>\n",
       "      <td>633fdfd13ffae8229d05cb36</td>\n",
       "      <td>https://husna.fm/%D9%85%D8%AD%D9%84%D9%8A/%D8%...</td>\n",
       "      <td>تفاصيل دوام المدارس بعد قرار تثبيت التوقيت الصيفي</td>\n",
       "      <td>كشفت أمين عام وزارة التربية والتعليم للشؤون ال...</td>\n",
       "      <td>2022-10-06 05:29:00</td>\n",
       "      <td>News</td>\n",
       "      <td>['التربية والتعليم', 'التوقيت الصيفي', 'المدارس']</td>\n",
       "      <td>كشف امين عام وزاره تربيه تعليم شان مالي اداري ...</td>\n",
       "      <td></td>\n",
       "      <td>تفصيل دوام مدرسه قرار تثبيت توقيت صيفي</td>\n",
       "    </tr>\n",
       "    <tr>\n",
       "      <th>4</th>\n",
       "      <td>633fdfd13ffae8229d05cb37</td>\n",
       "      <td>https://husna.fm/%D9%85%D8%AD%D9%84%D9%8A/%D8%...</td>\n",
       "      <td>العمل: عطلة المولد النبوي الشريف تشمل القطاع ا...</td>\n",
       "      <td>أكدت  وزارة العمل  أن العطل الرسمية تكون مأجور...</td>\n",
       "      <td>2022-10-06 07:46:00</td>\n",
       "      <td>News</td>\n",
       "      <td>['وزارة العمل', 'المولد النبوي']</td>\n",
       "      <td>اكد وزاره عمل ان عطل رسمي ماجور عامل مءسسه قطا...</td>\n",
       "      <td></td>\n",
       "      <td>عمل   عطله مولد نبوي شريف شمل قطاع خاص</td>\n",
       "    </tr>\n",
       "    <tr>\n",
       "      <th>...</th>\n",
       "      <td>...</td>\n",
       "      <td>...</td>\n",
       "      <td>...</td>\n",
       "      <td>...</td>\n",
       "      <td>...</td>\n",
       "      <td>...</td>\n",
       "      <td>...</td>\n",
       "      <td>...</td>\n",
       "      <td>...</td>\n",
       "      <td>...</td>\n",
       "    </tr>\n",
       "    <tr>\n",
       "      <th>5079</th>\n",
       "      <td>633ff10f322e7883822052b3</td>\n",
       "      <td>https://husna.fm/%D9%85%D9%82%D8%A7%D9%84%D8%A...</td>\n",
       "      <td>الديمقراطية والتقاء الخصوم</td>\n",
       "      <td>نتحدث هنا عن القوى المؤثرة على الأرض العربية ا...</td>\n",
       "      <td>2022-09-20 21:00:00</td>\n",
       "      <td>Blog</td>\n",
       "      <td>['الديموقراطية']</td>\n",
       "      <td>تحدث قوه مءثر علي ارض عربي اصبح سبخ مالح بيءه ...</td>\n",
       "      <td></td>\n",
       "      <td>ديموقراطي التقاء خصم</td>\n",
       "    </tr>\n",
       "    <tr>\n",
       "      <th>5080</th>\n",
       "      <td>633ff10f322e7883822052b4</td>\n",
       "      <td>https://husna.fm/%D9%85%D9%82%D8%A7%D9%84%D8%A...</td>\n",
       "      <td>علموا أولادكم ألوان الطيف السبعة ومعانيها</td>\n",
       "      <td>سبحان من خلق الكون وأبدع في تصوريه، فجعل السما...</td>\n",
       "      <td>2022-09-21 12:18:00</td>\n",
       "      <td>Blog</td>\n",
       "      <td>['ألوان الطيف السبعة', 'الشذوذ الجنسي']</td>\n",
       "      <td>خلق كون بدع صور ، سماء درجه ، ارض منزل ، ايه ا...</td>\n",
       "      <td></td>\n",
       "      <td>ولد لون طيف معني</td>\n",
       "    </tr>\n",
       "    <tr>\n",
       "      <th>5081</th>\n",
       "      <td>633ff10f322e7883822052b7</td>\n",
       "      <td>https://husna.fm/%D9%85%D9%82%D8%A7%D9%84%D8%A...</td>\n",
       "      <td>تدين الخلاص الفردي وفرص النجاح</td>\n",
       "      <td>حالة من الصراع الصفري بين الأنظمة والإسلام الس...</td>\n",
       "      <td>2022-10-02 21:00:00</td>\n",
       "      <td>Blog</td>\n",
       "      <td>['الإسلام', 'الإسلام السياسي']</td>\n",
       "      <td>حال صراع صفر ي نظام اسلام سياسي تولد ربيع عربي...</td>\n",
       "      <td></td>\n",
       "      <td>ادان خلاص فردي فرصه نجاح</td>\n",
       "    </tr>\n",
       "    <tr>\n",
       "      <th>5082</th>\n",
       "      <td>633ff110322e7883822052b9</td>\n",
       "      <td>https://husna.fm/%D9%85%D9%82%D8%A7%D9%84%D8%A...</td>\n",
       "      <td>السر وراء الانخفاض الملحوظ في أسعار الأجهزة ال...</td>\n",
       "      <td>جدل يسود الشارع الأردني مجددا إثر التخفيضات ال...</td>\n",
       "      <td>2022-10-04 21:00:00</td>\n",
       "      <td>Blog</td>\n",
       "      <td>['تخفيضات']</td>\n",
       "      <td>جدل ساد شارع اردني مجدد اثر تخفيض كبير علي سعر...</td>\n",
       "      <td></td>\n",
       "      <td>سر وراء انخفاض ملحوظ سعر جهاز كهرباءي</td>\n",
       "    </tr>\n",
       "    <tr>\n",
       "      <th>5083</th>\n",
       "      <td>633ff1dd322e7883822052c0</td>\n",
       "      <td>https://husna.fm/%D9%85%D8%AD%D9%84%D9%8A/%D8%...</td>\n",
       "      <td>عطلة نهاية أسبوع حارة ودرجات أعلى من معدلها بقليل</td>\n",
       "      <td>تميل درجات الحرارة في عطلة نهاية الأسبوع للارت...</td>\n",
       "      <td>2021-07-29 06:35:00</td>\n",
       "      <td>News</td>\n",
       "      <td>[]</td>\n",
       "      <td>مال درجه حراره عطله نهايه اسبوع ارتفاع طفيف اع...</td>\n",
       "      <td></td>\n",
       "      <td>عطله نهايه اسبوع حاره درجه اعلي معدل قليل</td>\n",
       "    </tr>\n",
       "  </tbody>\n",
       "</table>\n",
       "<p>5084 rows × 10 columns</p>\n",
       "</div>"
      ],
      "text/plain": [
       "                           _id  \\\n",
       "0     633fdfd13ffae8229d05cb33   \n",
       "1     633fdfd13ffae8229d05cb34   \n",
       "2     633fdfd13ffae8229d05cb35   \n",
       "3     633fdfd13ffae8229d05cb36   \n",
       "4     633fdfd13ffae8229d05cb37   \n",
       "...                        ...   \n",
       "5079  633ff10f322e7883822052b3   \n",
       "5080  633ff10f322e7883822052b4   \n",
       "5081  633ff10f322e7883822052b7   \n",
       "5082  633ff110322e7883822052b9   \n",
       "5083  633ff1dd322e7883822052c0   \n",
       "\n",
       "                                                    url  \\\n",
       "0     https://husna.fm/%D9%85%D8%AD%D9%84%D9%8A/%D8%...   \n",
       "1     https://husna.fm/%D9%85%D8%AD%D9%84%D9%8A/%D8%...   \n",
       "2     https://husna.fm/%D9%85%D9%84%D9%81%D8%A7%D8%A...   \n",
       "3     https://husna.fm/%D9%85%D8%AD%D9%84%D9%8A/%D8%...   \n",
       "4     https://husna.fm/%D9%85%D8%AD%D9%84%D9%8A/%D8%...   \n",
       "...                                                 ...   \n",
       "5079  https://husna.fm/%D9%85%D9%82%D8%A7%D9%84%D8%A...   \n",
       "5080  https://husna.fm/%D9%85%D9%82%D8%A7%D9%84%D8%A...   \n",
       "5081  https://husna.fm/%D9%85%D9%82%D8%A7%D9%84%D8%A...   \n",
       "5082  https://husna.fm/%D9%85%D9%82%D8%A7%D9%84%D8%A...   \n",
       "5083  https://husna.fm/%D9%85%D8%AD%D9%84%D9%8A/%D8%...   \n",
       "\n",
       "                                                  title  \\\n",
       "0     التربية: تحويل 42 مدرسة إلى نظام الفترتين واست...   \n",
       "1     تكريما للمعلمين زيادة منح أبناء المعلمين 550 م...   \n",
       "2     الغاز الروسي يضع أوروبا خلال الشتاء المقبل أما...   \n",
       "3     تفاصيل دوام المدارس بعد قرار تثبيت التوقيت الصيفي   \n",
       "4     العمل: عطلة المولد النبوي الشريف تشمل القطاع ا...   \n",
       "...                                                 ...   \n",
       "5079                         الديمقراطية والتقاء الخصوم   \n",
       "5080          علموا أولادكم ألوان الطيف السبعة ومعانيها   \n",
       "5081                     تدين الخلاص الفردي وفرص النجاح   \n",
       "5082  السر وراء الانخفاض الملحوظ في أسعار الأجهزة ال...   \n",
       "5083  عطلة نهاية أسبوع حارة ودرجات أعلى من معدلها بقليل   \n",
       "\n",
       "                                                   text         published_at  \\\n",
       "0     أكدت أمين عام  وزارة  التربية والتعليم للشؤون ...  2022-10-06 07:33:00   \n",
       "1     احتفلت  وزارة التربية والتعليم  بيوم المعلم بت...  2022-10-05 11:46:00   \n",
       "2     يشهد العالم أول أزمة طاقة عالمية حقيقية في الت...  2022-08-22 07:17:00   \n",
       "3     كشفت أمين عام وزارة التربية والتعليم للشؤون ال...  2022-10-06 05:29:00   \n",
       "4     أكدت  وزارة العمل  أن العطل الرسمية تكون مأجور...  2022-10-06 07:46:00   \n",
       "...                                                 ...                  ...   \n",
       "5079  نتحدث هنا عن القوى المؤثرة على الأرض العربية ا...  2022-09-20 21:00:00   \n",
       "5080  سبحان من خلق الكون وأبدع في تصوريه، فجعل السما...  2022-09-21 12:18:00   \n",
       "5081  حالة من الصراع الصفري بين الأنظمة والإسلام الس...  2022-10-02 21:00:00   \n",
       "5082  جدل يسود الشارع الأردني مجددا إثر التخفيضات ال...  2022-10-04 21:00:00   \n",
       "5083  تميل درجات الحرارة في عطلة نهاية الأسبوع للارت...  2021-07-29 06:35:00   \n",
       "\n",
       "     article_type                                               tags  \\\n",
       "0            News     ['التربية والتعليم', 'وزارة التربية والتعليم']   \n",
       "1            News  ['مكرمة أبناء المعلمين', 'وزارة التربية والتعل...   \n",
       "2            News          ['الغاز الروسي', 'أوروبا', 'أزمة الطاقة']   \n",
       "3            News  ['التربية والتعليم', 'التوقيت الصيفي', 'المدارس']   \n",
       "4            News                   ['وزارة العمل', 'المولد النبوي']   \n",
       "...           ...                                                ...   \n",
       "5079         Blog                                   ['الديموقراطية']   \n",
       "5080         Blog            ['ألوان الطيف السبعة', 'الشذوذ الجنسي']   \n",
       "5081         Blog                     ['الإسلام', 'الإسلام السياسي']   \n",
       "5082         Blog                                        ['تخفيضات']   \n",
       "5083         News                                                 []   \n",
       "\n",
       "                                             text_clean summary_clean  \\\n",
       "0     اكد امين عام وزاره تربيه تعليم شان مالي اداري ...                 \n",
       "1     احتفل وزاره تربيه تعليم يوم معلم تكريم نخبه مع...                 \n",
       "2     شهد عالم اول ازمه طاقه عالم حقيقي تاريخ . تنام...                 \n",
       "3     كشف امين عام وزاره تربيه تعليم شان مالي اداري ...                 \n",
       "4     اكد وزاره عمل ان عطل رسمي ماجور عامل مءسسه قطا...                 \n",
       "...                                                 ...           ...   \n",
       "5079  تحدث قوه مءثر علي ارض عربي اصبح سبخ مالح بيءه ...                 \n",
       "5080  خلق كون بدع صور ، سماء درجه ، ارض منزل ، ايه ا...                 \n",
       "5081  حال صراع صفر ي نظام اسلام سياسي تولد ربيع عربي...                 \n",
       "5082  جدل ساد شارع اردني مجدد اثر تخفيض كبير علي سعر...                 \n",
       "5083  مال درجه حراره عطله نهايه اسبوع ارتفاع طفيف اع...                 \n",
       "\n",
       "                                            title_clean  \n",
       "0     تربيه   تحويل 42 مدرسه الي نظام فتره استءجار 1...  \n",
       "1     تكريم معلم زياده منح ابناء معلم 550 مقعد اضافي...  \n",
       "2     غاز روسي وضع اوربا خلال شتاء مقبل امام اختبار ...  \n",
       "3                تفصيل دوام مدرسه قرار تثبيت توقيت صيفي  \n",
       "4                عمل   عطله مولد نبوي شريف شمل قطاع خاص  \n",
       "...                                                 ...  \n",
       "5079                               ديموقراطي التقاء خصم  \n",
       "5080                                   ولد لون طيف معني  \n",
       "5081                           ادان خلاص فردي فرصه نجاح  \n",
       "5082              سر وراء انخفاض ملحوظ سعر جهاز كهرباءي  \n",
       "5083          عطله نهايه اسبوع حاره درجه اعلي معدل قليل  \n",
       "\n",
       "[5084 rows x 10 columns]"
      ]
     },
     "execution_count": 22,
     "metadata": {},
     "output_type": "execute_result"
    }
   ],
   "source": [
    "SE_df"
   ]
  },
  {
   "cell_type": "code",
   "execution_count": 16,
   "id": "2a592827",
   "metadata": {},
   "outputs": [],
   "source": [
    "SE_ob = Search_Engine(cols, cols_weights, df=SE_df)"
   ]
  },
  {
   "cell_type": "code",
   "execution_count": 17,
   "id": "09b56d1a",
   "metadata": {},
   "outputs": [
    {
     "name": "stderr",
     "output_type": "stream",
     "text": [
      "C:\\Users\\modaj\\OneDrive\\Documents\\Personal\\Jobs\\SHAI\\intern - task 3\\SEA_venv\\lib\\site-packages\\sklearn\\base.py:329: UserWarning: Trying to unpickle estimator TfidfTransformer from version 1.0.2 when using version 1.1.2. This might lead to breaking code or invalid results. Use at your own risk. For more info please refer to:\n",
      "https://scikit-learn.org/stable/model_persistence.html#security-maintainability-limitations\n",
      "  warnings.warn(\n",
      "C:\\Users\\modaj\\OneDrive\\Documents\\Personal\\Jobs\\SHAI\\intern - task 3\\SEA_venv\\lib\\site-packages\\sklearn\\base.py:329: UserWarning: Trying to unpickle estimator TfidfVectorizer from version 1.0.2 when using version 1.1.2. This might lead to breaking code or invalid results. Use at your own risk. For more info please refer to:\n",
      "https://scikit-learn.org/stable/model_persistence.html#security-maintainability-limitations\n",
      "  warnings.warn(\n"
     ]
    }
   ],
   "source": [
    "SE_ob.get_saved_vectorizers(rel_dir='../Results/saved_vectorizers')"
   ]
  },
  {
   "cell_type": "code",
   "execution_count": 18,
   "id": "820f26df",
   "metadata": {
    "scrolled": true
   },
   "outputs": [
    {
     "name": "stderr",
     "output_type": "stream",
     "text": [
      "C:\\Users\\modaj\\OneDrive\\Documents\\Personal\\Jobs\\SHAI\\intern - task 3\\SEA_venv\\lib\\site-packages\\sklearn\\utils\\deprecation.py:87: FutureWarning: Function get_feature_names is deprecated; get_feature_names is deprecated in 1.0 and will be removed in 1.2. Please use get_feature_names_out instead.\n",
      "  warnings.warn(msg, category=FutureWarning)\n",
      "C:\\Users\\modaj\\OneDrive\\Documents\\Personal\\Jobs\\SHAI\\intern - task 3\\Notebooks\\..\\Src\\search\\search_engine.py:59: RuntimeWarning: invalid value encountered in double_scalars\n",
      "  sim[i] = np.dot(data.loc[:, i].values, q_vec) / np.linalg.norm(data.loc[:, i]) * np.linalg.norm(q_vec)\n",
      "C:\\Users\\modaj\\OneDrive\\Documents\\Personal\\Jobs\\SHAI\\intern - task 3\\SEA_venv\\lib\\site-packages\\sklearn\\utils\\deprecation.py:87: FutureWarning: Function get_feature_names is deprecated; get_feature_names is deprecated in 1.0 and will be removed in 1.2. Please use get_feature_names_out instead.\n",
      "  warnings.warn(msg, category=FutureWarning)\n"
     ]
    }
   ],
   "source": [
    "results = SE_ob.overall_search('مولد النبي')"
   ]
  },
  {
   "cell_type": "code",
   "execution_count": 51,
   "id": "e0c67cc6",
   "metadata": {},
   "outputs": [
    {
     "data": {
      "text/plain": [
       "4600"
      ]
     },
     "execution_count": 51,
     "metadata": {},
     "output_type": "execute_result"
    }
   ],
   "source": [
    "np.array(top10_results, dtype=\"int32\")[:, 0]"
   ]
  },
  {
   "cell_type": "code",
   "execution_count": 69,
   "id": "e7cd2dd2",
   "metadata": {},
   "outputs": [],
   "source": [
    "ids = np.array(top10_results, dtype=\"int32\")[:, 0]\n",
    "urls_temp = list(SE_df.loc[ids, :]['url'])\n",
    "title_temp = list(SE_df.loc[ids, :]['title'])\n",
    "text_temp = list(SE_df.loc[ids, :]['text'])"
   ]
  },
  {
   "cell_type": "code",
   "execution_count": 26,
   "id": "84bb3725",
   "metadata": {},
   "outputs": [
    {
     "data": {
      "text/plain": [
       "'التعليم'"
      ]
     },
     "execution_count": 26,
     "metadata": {},
     "output_type": "execute_result"
    }
   ],
   "source": [
    "q = 'التعليم'\n",
    "clean_text(q)"
   ]
  },
  {
   "cell_type": "code",
   "execution_count": 68,
   "id": "4da2c579",
   "metadata": {},
   "outputs": [
    {
     "name": "stdout",
     "output_type": "stream",
     "text": [
      "-> Top 10 Results:\n",
      "----------------------------------------------------------------------------------------------------\n",
      "\n",
      "Document ID 4600 with a score of 0.100\n",
      "link: https://husna.fm/%D8%B9%D8%B1%D8%A8%D9%8A-%D9%88-%D8%AF%D9%88%D9%84%D9%8A/%D8%A7%D9%84%D9%86%D8%A8%D9%8A-%D9%85%D8%AD%D9%85%D8%AF-%28%EF%B7%BA%29\n",
      "\n",
      "title: خان يطالب بتجريم إهانة النبي محمد أسوة بإنكار المحرقة اليهودية\n",
      "description: شدد  رئيس الوزراء الباكستاني  عمران خان في تغريدات  له على حسابه الخاص بموقع (تويتر) أن على الحكومات\n",
      "--------------------------------------------------\n",
      "\n",
      "Document ID 1697 with a score of 0.077\n",
      "link: https://husna.fm/%D9%85%D8%AD%D9%84%D9%8A/%D9%84%D9%8A%D9%84%D8%A9-%D8%A7%D9%84%D8%A5%D8%B3%D8%B1%D8%A7%D8%A1-%D9%88%D8%A7%D9%84%D9%85%D8%B9%D8%B1%D8%A7%D8%AC-%D8%AA%D8%A8%D8%AB-%D9%81%D9%8A-%D8%A7%D9%84%D9%86%D9%81%D9%88%D8%B3-%D8%A7%D9%84%D8%B5%D8%A8%D8%B1-%D8%B9%D9%84%D9%89-%D8%AA%D8%AC%D8%A7%D9%88%D8%B2-%D8%A7%D9%84%D8%B4%D8%AF%D8%A7%D8%A6%D8%AF\n",
      "\n",
      "title: ليلة الإسراء والمعراج تبث في النفوس الصبر على تجاوز الشدائد\n",
      "description: - تفوح من ذكرى ليلة الإسراء والمعراج التي تصادف يوم غد( الخميس ) رسائل عميقة ومعاني بليغة، تبث في ال\n",
      "--------------------------------------------------\n",
      "\n",
      "Document ID 2152 with a score of 0.076\n",
      "link: https://husna.fm/%D9%85%D8%AD%D9%84%D9%8A/%D8%B0%D9%83%D8%B1%D9%89-%D8%A7%D9%84%D9%87%D8%AC%D8%B1%D8%A9-%D8%A7%D9%84%D9%86%D8%A8%D9%88%D9%8A%D8%A9-%D8%AF%D8%B1%D9%88%D8%B3-%D9%86%D8%B3%D8%AA%D9%84%D9%87%D9%85-%D9%85%D9%86%D9%87%D8%A7-%D8%A7%D9%84%D8%B9%D8%A8%D8%B1-%D9%81%D9%8A-%D8%A8%D9%86%D8%A7%D8%A1-%D8%A7%D9%84%D8%AF%D9%88%D9%84%D8%A9\n",
      "\n",
      "title: ذكرى الهجرة النبوية دروس نستلهم منها العبر في بناء الدولة\n",
      "description: تأتي ذكرى الهجرة النبوية الشريفة التي تصادف في الثَّلاثين من تمّوز 2022 ، الموافق للأوَّل من محرَّم \n",
      "--------------------------------------------------\n",
      "\n",
      "Document ID 2608 with a score of 0.053\n",
      "link: https://husna.fm/%D9%85%D8%AD%D9%84%D9%8A/%D9%85%D8%B3%D8%AA%D8%B4%D9%81%D9%89-%D8%A5%D8%B1%D8%A8%D8%AF-%D8%A7%D9%84%D9%85%D9%8A%D8%AF%D8%A7%D9%86%D9%8A-%D8%B6%D9%85%D9%86-%D8%AF%D8%A7%D8%A6%D8%B1%D8%A9-%D9%82%D8%B7%D8%B9-%D8%A7%D9%84%D9%83%D9%87%D8%B1%D8%A8%D8%A7%D8%A1-%D8%BA%D8%AF%D8%A7\n",
      "\n",
      "title: مستشفى إربد الميداني ضمن دائرة قطع الكهرباء غدا\n",
      "description: وجهت شركة كهرباء إربد صباح اليوم كتابًا لمستشفى إربد الميداني تعلمه بنيّتها إجراء قطع مبرمج للكهرباء\n",
      "--------------------------------------------------\n",
      "\n",
      "Document ID 2527 with a score of 0.048\n",
      "link: https://husna.fm/%D9%85%D8%AD%D9%84%D9%8A/%D8%A7%D9%84%D8%A3%D9%88%D9%82%D8%A7%D9%81-%D8%B5%D9%84%D8%A7%D8%A9-%D8%B9%D9%8A%D8%AF-%D8%A7%D9%84%D8%A3%D8%B6%D8%AD%D9%89\n",
      "\n",
      "title: الأوقاف: صلاة عيد الأضحى الساعة 6:30 يوم السبت\n",
      "description: أعلنت  وزارة الأوقاف  والشؤون والمقدسات الإسلامية، أن صلاة عيد الأضحى المبارك ستقام عند الساعة 6:30 \n",
      "--------------------------------------------------\n",
      "\n",
      "Document ID 2147 with a score of 0.045\n",
      "link: https://husna.fm/%D9%85%D8%AD%D9%84%D9%8A/%D9%88%D8%B2%D8%A7%D8%B1%D8%A9-%D8%A7%D9%84%D8%A3%D9%88%D9%82%D8%A7%D9%81-%D8%A7%D9%84%D8%B3%D9%86%D8%A9-%D8%A7%D9%84%D9%87%D8%AC%D8%B1%D9%8A%D8%A9-1444\n",
      "\n",
      "title: وزارة الأوقاف تقيم احتفالا دينيا بمناسبة السنة الهجرية 1444\n",
      "description: أقامت وزارة الأوقاف والشؤون والمقدسات الإسلامية، اليوم الأحد، احتفالا دينيا بمناسبة رأس السنة الهجري\n",
      "--------------------------------------------------\n",
      "\n",
      "Document ID 546 with a score of 0.045\n",
      "link: https://husna.fm/%D9%85%D8%AD%D9%84%D9%8A/%D8%A7%D9%84%D8%A5%D8%B3%D8%A7%D8%A1%D8%A9-%D8%A7%D9%84%D8%B1%D8%B3%D9%88%D9%84-%D9%85%D8%AD%D9%85%D8%AF-%EF%B7%BA-%D8%A7%D9%84%D9%87%D9%86%D8%AF\n",
      "\n",
      "title: الأردن يدين الإساءة للرسول محمد الصادرة عن متحدثين باسم الحزب الحاكم بالهند\n",
      "description: دانت وزارة الخارجية وشؤون المغتربين، اليوم الإثنين، بأشد العبارات التصريحات المسيئة للرسول الكريم مح\n",
      "--------------------------------------------------\n",
      "\n",
      "Document ID 2282 with a score of 0.044\n",
      "link: https://husna.fm/%D9%85%D8%AD%D9%84%D9%8A/%D8%B2%D9%8A%D8%AF%D8%A7%D9%86-%D8%AA%D9%88%D9%81%D9%8A%D8%B1-%D8%A7%D9%84%D8%A3%D9%88%D9%83%D8%B3%D8%AC%D9%8A%D9%86-%D9%85%D8%B3%D8%A3%D9%84%D8%A9-%D8%A3%D9%85%D9%86-%D9%88%D8%B7%D9%86%D9%8A\n",
      "\n",
      "title: زيدان: توفير الأوكسجين مسألة أمن وطني\n",
      "description: قال نائب رئيس  جمعية المستشفيات الخاصة  الدكتور نائل زيدان إن مسألة توفير الأكسجين بكميّات كبيرة للم\n",
      "--------------------------------------------------\n",
      "\n",
      "Document ID 1746 with a score of 0.039\n",
      "link: https://husna.fm/%D9%85%D8%AD%D9%84%D9%8A/%C2%A0%D9%85%D9%81%D8%AA%D9%8A-%D8%A7%D9%84%D9%85%D9%85%D9%84%D9%83%D8%A9-%D8%AA%D8%AD%D8%B1%D9%8A-%D9%87%D9%84%D8%A7%D9%84-%D8%B4%D9%87%D8%B1-%D8%B1%D9%85%D8%B6%D8%A7%D9%86-%D9%85%D8%B3%D8%A7%D8%A1-%D8%A7%D9%84%D8%A3%D8%AB%D9%86%D9%8A%D9%86-%D8%A7%D9%84%D9%85%D9%82%D8%A8%D9%84\n",
      "\n",
      "title: مفتي المملكة: تحري هلال شهر رمضان مساء الأثنين المقبل\n",
      "description: أعلن سماحة مفتي عام المملكة الشيخ عبد الكريم الخصاونة، أن لجنة الأهلة في دائرة الإفتاء العام ستتحرى \n",
      "--------------------------------------------------\n",
      "\n",
      "Document ID 1730 with a score of 0.037\n",
      "link: https://husna.fm/%D8%B9%D8%B1%D8%A8%D9%8A-%D9%88-%D8%AF%D9%88%D9%84%D9%8A/%D8%A7%D9%84%D8%A3%D8%B2%D9%87%D8%B1-%D8%AD%D8%A7%D8%A6%D8%B7-%D8%A7%D9%84%D8%A8%D8%B1%D8%A7%D9%82-%D9%88%D9%82%D9%81-%D8%A5%D8%B3%D9%84%D8%A7%D9%85%D9%8A-%D9%81%D9%8A%D9%85%D8%A7-%D8%AD%D8%A7%D8%A6%D8%B7-%D8%A7%D9%84%D9%85%D8%A8%D9%83%D9%89-%D8%A3%D9%83%D8%B0%D9%88%D8%A8%D8%A9-%D8%B5%D9%87%D9%8A%D9%88%D9%86%D9%8A%D8%A9\n",
      "\n",
      "title: الأزهر : حائط البراق وقف إسلامي فيما \"حائط المبكى\" أكذوبة صهيونية\n",
      "description: أكدت حملة \"القدس بين الحقوق العربية والمزاعم الصهيونية\"، التي أطلقها المركز الإعلامي ل لأزهر الشريف \n",
      "--------------------------------------------------\n",
      "\n",
      "\n",
      "Search Time Duration: 6.43 Seconds\n",
      "Search (uniqueness/frequency) fraction: 1.000\n"
     ]
    }
   ],
   "source": [
    "top10_results = sorted(results[0], key=lambda x: x[1], reverse=True)[:10]\n",
    "SE_time = results[1]\n",
    "SE_score = results[2]\n",
    "ids = np.array(top10_results, dtype=\"int32\")[:, 0]\n",
    "urls = list(SE_df.loc[ids, :]['url'])\n",
    "titles = list(SE_df.loc[ids, :]['title'])\n",
    "texts = list(SE_df.loc[ids, :]['text'])\n",
    "\n",
    "print(f'-> Top 10 Results:')\n",
    "print('-' * 100, end='\\n\\n')\n",
    "for i, (t10r_id, t10r_score) in enumerate(top10_results):\n",
    "    print('Document ID {:d} with a score of {:.3f}'.format(int(t10r_id), t10r_score))\n",
    "    print(f\"link: {urls[i]}\", end='\\n\\n')\n",
    "    print(f\"title: {titles[i]}\")\n",
    "    print(f\"description: {texts[i][:100]}\")\n",
    "    print('-' * 50, end='\\n\\n')\n",
    "print()\n",
    "print('Search Time Duration: {:.2f} Seconds'.format(SE_time * 10 **-3))\n",
    "print('Search (uniqueness/frequency) fraction: {:.3f}'.format(SE_score))"
   ]
  }
 ],
 "metadata": {
  "kernelspec": {
   "display_name": "SEA",
   "language": "python",
   "name": "sea"
  },
  "language_info": {
   "codemirror_mode": {
    "name": "ipython",
    "version": 3
   },
   "file_extension": ".py",
   "mimetype": "text/x-python",
   "name": "python",
   "nbconvert_exporter": "python",
   "pygments_lexer": "ipython3",
   "version": "3.10.1"
  }
 },
 "nbformat": 4,
 "nbformat_minor": 5
}
